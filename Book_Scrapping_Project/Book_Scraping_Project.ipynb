{
 "cells": [
  {
   "cell_type": "code",
   "execution_count": 1,
   "id": "3b526bbf",
   "metadata": {},
   "outputs": [],
   "source": [
    "import os,csv,requests,lxml\n",
    "from bs4 import BeautifulSoup"
   ]
  },
  {
   "cell_type": "markdown",
   "id": "9728a19b",
   "metadata": {},
   "source": [
    "## Scrap all books\n",
    "https://books.toscrape.com/"
   ]
  },
  {
   "cell_type": "code",
   "execution_count": 2,
   "id": "c9112ea9",
   "metadata": {},
   "outputs": [],
   "source": [
    "BooksList = []\n",
    "def main():\n",
    "    for i in range(1,51):\n",
    "        bookWebsiteURL = f'https://books.toscrape.com/catalogue/page-{i}.html'\n",
    "        response = requests.get(bookWebsiteURL)\n",
    "        soup = BeautifulSoup(response.content,'lxml')\n",
    "        onePage(soup.find('section').find('ol',{'class':'row'}))\n",
    "        \n",
    "def onePage(page):\n",
    "    Books = page.find_all('li',{'class':'col-xs-6 col-sm-4 col-md-3 col-lg-3'})\n",
    "    for book in Books:\n",
    "        onebook(book)\n",
    "    storeInCSV(BooksList)\n",
    "    BooksList.clear()\n",
    "\n",
    "def onebook(book):\n",
    "    bookLink = 'https://books.toscrape.com/catalogue/'+book.find('div',{'class':'image_container'}).find('a').attrs['href']\n",
    "    bookRate = book.find('p').attrs['class'][-1]\n",
    "    bookName = book.find('h3').find('a').attrs['title']\n",
    "    bookPrice = book.find('div',{'class':'product_price'}).find('p').text[1:]\n",
    "    bookStatus = book.find('div',{'class':'product_price'}).find('p',{'class':'instock availability'}).text.strip()\n",
    "    BooksList.append((bookName,bookRate,bookStatus,bookPrice,bookLink))\n",
    "\n",
    "def storeInCSV(books):\n",
    "    m = 'a' if os.path.exists('AllBooks.csv') else 'w'\n",
    "    with open('AllBooks.csv',mode=m,newline='',encoding='utf-8') as f:\n",
    "        w = csv.writer(f)\n",
    "        if m == 'w':\n",
    "            w.writerow(['Book Name','Book Rate','Book Status','Book Price','Book Link'])\n",
    "        w.writerows(books)\n",
    "main()"
   ]
  },
  {
   "cell_type": "markdown",
   "id": "8b94dde7",
   "metadata": {},
   "source": [
    "# *********************************************************************************************"
   ]
  },
  {
   "cell_type": "markdown",
   "id": "db868067",
   "metadata": {},
   "source": [
    "# Scrap all books for each category\n",
    "https://books.toscrape.com/"
   ]
  },
  {
   "cell_type": "code",
   "execution_count": 3,
   "id": "d1f0f497",
   "metadata": {},
   "outputs": [],
   "source": [
    "BooksList = []\n",
    "AllCategories= dict()\n",
    "def main():\n",
    "    bookWebsiteURL = f'https://books.toscrape.com/catalogue/page-1.html'\n",
    "    response = requests.get(bookWebsiteURL)\n",
    "    soup = BeautifulSoup(response.content,'lxml')\n",
    "    allCategories(soup.find('div',{'class':'container-fluid page'}).find('div',{'class':'side_categories'}).find('ul').find('ul').find_all('li'))\n",
    "    for k,v in AllCategories.items():\n",
    "        oneCategory(k,v)\n",
    "\n",
    "def oneCategory(title,link):\n",
    "    numOfPages = 1\n",
    "    response = requests.get(link)\n",
    "    soup = BeautifulSoup(response.content,'lxml')\n",
    "    try :\n",
    "        numOfPages = int(soup.find('div',{'class':'container-fluid page'}).find('div',{'class':'row'}).find('ul',{'class','pager'}).find('li',{'class','current'}).text.strip().split(' ')[-1])\n",
    "    except:\n",
    "        pass\n",
    "    for pgn in range(1,numOfPages+1):\n",
    "        if pgn !=1:\n",
    "            newLink = link.replace('index' , f'page-{pgn}')\n",
    "            response = requests.get(newLink)\n",
    "            soup = BeautifulSoup(response.content,'lxml')\n",
    "        onePage(title,soup.find('section').find('ol',{'class':'row'}))\n",
    "\n",
    "def onePage(cat,page):        \n",
    "    Books = page.find_all('li',{'class':'col-xs-6 col-sm-4 col-md-3 col-lg-3'})\n",
    "    for book in Books:\n",
    "        onebook(cat,book)\n",
    "    storeInCSV(BooksList)\n",
    "    BooksList.clear()\n",
    "\n",
    "def onebook(cat,book):\n",
    "    bookLink = 'https://books.toscrape.com/catalogue/'+book.find('div',{'class':'image_container'}).find('a').attrs['href']\n",
    "    bookRate = book.find('p').attrs['class'][-1]\n",
    "    bookName = book.find('h3').find('a').attrs['title']\n",
    "    bookPrice = book.find('div',{'class':'product_price'}).find('p').text[1:]\n",
    "    bookStatus = book.find('div',{'class':'product_price'}).find('p',{'class':'instock availability'}).text.strip()\n",
    "    BooksList.append((cat,bookName,bookRate,bookStatus,bookPrice,bookLink))\n",
    "\n",
    "def storeInCSV(books):\n",
    "    m = 'a' if os.path.exists('AllBooks.csv') else 'w'\n",
    "    with open('AllBooksWithCategories.csv',mode=m,newline='',encoding='utf-8') as f:\n",
    "        w = csv.writer(f)\n",
    "        if m == 'w':\n",
    "            w.writerow(['Category Name','Book Name','Book Rate','Book Status','Book Price','Book Link'])\n",
    "        w.writerows(books)\n",
    "\n",
    "def allCategories(categories):\n",
    "    global AllCategories\n",
    "    AllCategories = {category.find('a').text.strip() : 'https://books.toscrape.com/catalogue/'+category.find('a').attrs['href'] for category in categories}\n",
    "#     for category in categories:\n",
    "#         catName = category.find('a').text.strip()\n",
    "#         catLink = 'https://books.toscrape.com/catalogue/'+category.find('a').attrs['href']\n",
    "#         AllCatergories[catName] = catLink\n",
    "\n",
    "main()"
   ]
  },
  {
   "cell_type": "code",
   "execution_count": null,
   "id": "964b6c41",
   "metadata": {},
   "outputs": [],
   "source": []
  },
  {
   "cell_type": "code",
   "execution_count": null,
   "id": "c3b39f23",
   "metadata": {},
   "outputs": [],
   "source": []
  }
 ],
 "metadata": {
  "kernelspec": {
   "display_name": "Python 3 (ipykernel)",
   "language": "python",
   "name": "python3"
  },
  "language_info": {
   "codemirror_mode": {
    "name": "ipython",
    "version": 3
   },
   "file_extension": ".py",
   "mimetype": "text/x-python",
   "name": "python",
   "nbconvert_exporter": "python",
   "pygments_lexer": "ipython3",
   "version": "3.11.4"
  }
 },
 "nbformat": 4,
 "nbformat_minor": 5
}
